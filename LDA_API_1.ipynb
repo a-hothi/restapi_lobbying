{
 "cells": [
  {
   "cell_type": "code",
   "execution_count": 8,
   "metadata": {
    "collapsed": true
   },
   "outputs": [],
   "source": [
    "import requests\n",
    "import json\n",
    "import csv"
   ]
  },
  {
   "cell_type": "code",
   "execution_count": 9,
   "outputs": [],
   "source": [
    "api_key = \"c389c6055d9a24dc6c0878afb8803b3607fe80aa\"\n",
    "base_url = \"https://lda.senate.gov/api/v1/filings/\""
   ],
   "metadata": {
    "collapsed": false
   }
  },
  {
   "cell_type": "code",
   "execution_count": 10,
   "outputs": [],
   "source": [
    "def fetch_data(url, params):\n",
    "    all_results = []\n",
    "    while url:\n",
    "        response = requests.get(url, params=params)\n",
    "        if response.status_code != 200:\n",
    "            print(f\"Error: {response.status_code}. Unable to fetch data.\")\n",
    "            break\n",
    "        data = response.json()\n",
    "        all_results.extend(data[\"results\"])\n",
    "        url = data[\"next\"]\n",
    "        params = None  # Clear params for the next request since they're already in the URL\n",
    "    return all_results"
   ],
   "metadata": {
    "collapsed": false
   }
  },
  {
   "cell_type": "code",
   "execution_count": 11,
   "outputs": [],
   "source": [
    "def save_data_to_csv(data, filename):\n",
    "    if not data:\n",
    "        return\n",
    "\n",
    "    fieldnames = list(data[0].keys())\n",
    "    with open(filename, 'w', newline='') as outfile:\n",
    "        writer = csv.DictWriter(outfile, fieldnames=fieldnames)\n",
    "        writer.writeheader()\n",
    "        for record in data:\n",
    "            writer.writerow(record)"
   ],
   "metadata": {
    "collapsed": false
   }
  },
  {
   "cell_type": "code",
   "execution_count": 12,
   "outputs": [],
   "source": [
    "params = {\"apikey\": api_key, \"filing_year\": 2021, \"page_size\": 25, \"dt_posted__gte\": \"2021-01-02\", \"dt_posted__lte\": \"2021-01-03\",}"
   ],
   "metadata": {
    "collapsed": false
   }
  },
  {
   "cell_type": "code",
   "execution_count": null,
   "outputs": [],
   "source": [
    "filing_data = fetch_data(base_url, params)"
   ],
   "metadata": {
    "collapsed": false,
    "pycharm": {
     "is_executing": true
    }
   }
  },
  {
   "cell_type": "code",
   "execution_count": null,
   "outputs": [],
   "source": [
    "save_data_to_csv(filing_data, 'data/filing_data.csv')"
   ],
   "metadata": {
    "collapsed": false,
    "pycharm": {
     "is_executing": true
    }
   }
  }
 ],
 "metadata": {
  "kernelspec": {
   "display_name": "Python 3",
   "language": "python",
   "name": "python3"
  },
  "language_info": {
   "codemirror_mode": {
    "name": "ipython",
    "version": 2
   },
   "file_extension": ".py",
   "mimetype": "text/x-python",
   "name": "python",
   "nbconvert_exporter": "python",
   "pygments_lexer": "ipython2",
   "version": "2.7.6"
  }
 },
 "nbformat": 4,
 "nbformat_minor": 0
}
